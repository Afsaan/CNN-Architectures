{
  "nbformat": 4,
  "nbformat_minor": 0,
  "metadata": {
    "colab": {
      "name": "Alexnet",
      "provenance": []
    },
    "kernelspec": {
      "name": "python3",
      "display_name": "Python 3"
    },
    "accelerator": "GPU"
  },
  "cells": [
    {
      "cell_type": "code",
      "metadata": {
        "id": "N8hSAlMTB-nP",
        "colab_type": "code",
        "colab": {}
      },
      "source": [
        "#importing important libraries\n",
        "import tensorflow\n",
        "from tensorflow import keras\n",
        "from tensorflow.keras.layers import Conv2D , Flatten , MaxPool2D , Dense\n",
        "from tensorflow.keras.datasets import mnist\n",
        "from tensorflow.keras.utils import to_categorical\n",
        "from tensorflow.keras import Model\n",
        "from tensorflow.keras import optimizers\n",
        "from tensorflow.keras.preprocessing.image import ImageDataGenerator"
      ],
      "execution_count": 16,
      "outputs": []
    },
    {
      "cell_type": "code",
      "metadata": {
        "id": "Z7x4CaCoB_s3",
        "colab_type": "code",
        "colab": {}
      },
      "source": [
        "train_dataset_path = 'mask_dataset/train'\n",
        "test_dataset_path = 'mask_dataset/val'"
      ],
      "execution_count": 20,
      "outputs": []
    },
    {
      "cell_type": "code",
      "metadata": {
        "id": "Eggu5HX26Dt7",
        "colab_type": "code",
        "colab": {}
      },
      "source": [
        "datagen = ImageDataGenerator()"
      ],
      "execution_count": 21,
      "outputs": []
    },
    {
      "cell_type": "code",
      "metadata": {
        "id": "CE3IjvJK5DyG",
        "colab_type": "code",
        "colab": {
          "base_uri": "https://localhost:8080/",
          "height": 51
        },
        "outputId": "3d11e06a-2b37-41ca-c973-4351f2a94746"
      },
      "source": [
        "#load and iterate the training set\n",
        "train = datagen.flow_from_directory(train_dataset_path  , target_size=(227 , 227) , class_mode='binary' ,batch_size= 64)\n",
        "\n",
        "#load and iterate the testing set\n",
        "test = datagen.flow_from_directory(test_dataset_path  , target_size=(227 , 227) , class_mode='binary' ,batch_size= 64)"
      ],
      "execution_count": 24,
      "outputs": [
        {
          "output_type": "stream",
          "text": [
            "Found 1100 images belonging to 2 classes.\n",
            "Found 137 images belonging to 2 classes.\n"
          ],
          "name": "stdout"
        }
      ]
    },
    {
      "cell_type": "code",
      "metadata": {
        "id": "FoqoeQNBC0ih",
        "colab_type": "code",
        "colab": {
          "base_uri": "https://localhost:8080/",
          "height": 85
        },
        "outputId": "6d55e77d-62ff-483f-dca8-550950a41cad"
      },
      "source": [
        "train_data  = iter(train)\n",
        "X_train , y_train = train_data.next()\n",
        "\n",
        "test_data = iter(test)\n",
        "X_test , y_test = test_data.next()\n",
        "\n",
        "print(f'X_train shape :{ X_train.shape}')\n",
        "print(f'y_train shape :{y_train.shape}')\n",
        "print(f'X_test shape  :{X_test.shape}')\n",
        "print(f'y_test_shape  :{y_test.shape}')"
      ],
      "execution_count": 25,
      "outputs": [
        {
          "output_type": "stream",
          "text": [
            "X_train shape :(64, 227, 227, 3)\n",
            "y_train shape :(64,)\n",
            "X_test shape  :(64, 227, 227, 3)\n",
            "y_test_shape  :(64,)\n"
          ],
          "name": "stdout"
        }
      ]
    },
    {
      "cell_type": "code",
      "metadata": {
        "id": "wF6YXNoSC_Hf",
        "colab_type": "code",
        "colab": {}
      },
      "source": [
        "#Alexnet Architcture\n",
        "model = keras.Sequential()\n",
        "\n",
        "model.add(Conv2D(filters= 96 , kernel_size=(11,11) ,strides= 4 ,padding='valid' ,  activation= 'relu' , input_shape = (227,227,3)))\n",
        "model.add(MaxPool2D(pool_size=(3,3) , strides= 2 ))\n",
        "\n",
        "model.add(Conv2D(filters= 256 , kernel_size=(5,5) ,strides= 1 ,padding='same' , activation= 'relu'))\n",
        "model.add(MaxPool2D(pool_size=(3,3) , strides= 2 ))\n",
        "\n",
        "model.add(Conv2D(filters= 384 , kernel_size=(3,3) ,strides= 1 ,padding='same' , activation= 'relu'))\n",
        "model.add(Conv2D(filters= 384 , kernel_size=(3,3) ,strides= 1 ,padding='same' , activation= 'relu'))\n",
        "model.add(Conv2D(filters= 256 , kernel_size=(3,3) ,strides= 1 ,padding='same' , activation= 'relu'))\n",
        "model.add(MaxPool2D(pool_size=(3,3) , strides= 2 ))\n",
        "\n",
        "model.add(Flatten())\n",
        "\n",
        "model.add(Dense(9216 , activation='relu'))\n",
        "model.add(Dense(4096 , activation='relu'))\n",
        "model.add(Dense(4096 , activation='relu'))\n",
        "model.add(Dense(4 , activation='softmax'))\n"
      ],
      "execution_count": 27,
      "outputs": []
    },
    {
      "cell_type": "code",
      "metadata": {
        "id": "HbzQif2FDjki",
        "colab_type": "code",
        "colab": {
          "base_uri": "https://localhost:8080/",
          "height": 595
        },
        "outputId": "0ccc04f5-d2f9-4138-ec07-3061016b8d1d"
      },
      "source": [
        "model.summary()"
      ],
      "execution_count": 28,
      "outputs": [
        {
          "output_type": "stream",
          "text": [
            "Model: \"sequential_1\"\n",
            "_________________________________________________________________\n",
            "Layer (type)                 Output Shape              Param #   \n",
            "=================================================================\n",
            "conv2d_5 (Conv2D)            (None, 55, 55, 96)        34944     \n",
            "_________________________________________________________________\n",
            "max_pooling2d_3 (MaxPooling2 (None, 27, 27, 96)        0         \n",
            "_________________________________________________________________\n",
            "conv2d_6 (Conv2D)            (None, 27, 27, 256)       614656    \n",
            "_________________________________________________________________\n",
            "max_pooling2d_4 (MaxPooling2 (None, 13, 13, 256)       0         \n",
            "_________________________________________________________________\n",
            "conv2d_7 (Conv2D)            (None, 13, 13, 384)       885120    \n",
            "_________________________________________________________________\n",
            "conv2d_8 (Conv2D)            (None, 13, 13, 384)       1327488   \n",
            "_________________________________________________________________\n",
            "conv2d_9 (Conv2D)            (None, 13, 13, 256)       884992    \n",
            "_________________________________________________________________\n",
            "max_pooling2d_5 (MaxPooling2 (None, 6, 6, 256)         0         \n",
            "_________________________________________________________________\n",
            "flatten_1 (Flatten)          (None, 9216)              0         \n",
            "_________________________________________________________________\n",
            "dense_4 (Dense)              (None, 9216)              84943872  \n",
            "_________________________________________________________________\n",
            "dense_5 (Dense)              (None, 4096)              37752832  \n",
            "_________________________________________________________________\n",
            "dense_6 (Dense)              (None, 4096)              16781312  \n",
            "_________________________________________________________________\n",
            "dense_7 (Dense)              (None, 4)                 16388     \n",
            "=================================================================\n",
            "Total params: 143,241,604\n",
            "Trainable params: 143,241,604\n",
            "Non-trainable params: 0\n",
            "_________________________________________________________________\n"
          ],
          "name": "stdout"
        }
      ]
    },
    {
      "cell_type": "code",
      "metadata": {
        "id": "Rv1NIaP0DlVS",
        "colab_type": "code",
        "colab": {}
      },
      "source": [
        "optim = optimizers.Adam()\n",
        "model.compile(optim , loss=tensorflow.keras.losses.binary_crossentropy, metrics=['accuracy'])"
      ],
      "execution_count": 29,
      "outputs": []
    },
    {
      "cell_type": "code",
      "metadata": {
        "id": "UcC_X6VvDo0s",
        "colab_type": "code",
        "colab": {
          "base_uri": "https://localhost:8080/",
          "height": 102
        },
        "outputId": "7534a8ee-9978-4a50-a7b0-ac6976dac017"
      },
      "source": [
        "model.fit_generator(train , epochs= 2 , validation_data= test , verbose = 1)"
      ],
      "execution_count": 30,
      "outputs": [
        {
          "output_type": "stream",
          "text": [
            "Epoch 1/2\n",
            "18/18 [==============================] - 758s 42s/step - loss: 7.4466 - accuracy: 0.5000 - val_loss: 7.6622 - val_accuracy: 0.5036\n",
            "Epoch 2/2\n",
            "18/18 [==============================] - 8s 423ms/step - loss: 7.6764 - accuracy: 0.5018 - val_loss: 7.6622 - val_accuracy: 0.5036\n"
          ],
          "name": "stdout"
        },
        {
          "output_type": "execute_result",
          "data": {
            "text/plain": [
              "<tensorflow.python.keras.callbacks.History at 0x7f2d66e61860>"
            ]
          },
          "metadata": {
            "tags": []
          },
          "execution_count": 30
        }
      ]
    },
    {
      "cell_type": "code",
      "metadata": {
        "id": "z7CurNATGV--",
        "colab_type": "code",
        "colab": {}
      },
      "source": [
        ""
      ],
      "execution_count": null,
      "outputs": []
    }
  ]
}