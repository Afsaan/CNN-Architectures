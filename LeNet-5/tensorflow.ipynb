{
  "nbformat": 4,
  "nbformat_minor": 0,
  "metadata": {
    "colab": {
      "name": "tensorflow.ipynb",
      "provenance": []
    },
    "kernelspec": {
      "name": "python3",
      "display_name": "Python 3"
    },
    "accelerator": "GPU"
  },
  "cells": [
    {
      "cell_type": "code",
      "metadata": {
        "id": "cZwlaCHWM61q",
        "colab_type": "code",
        "colab": {}
      },
      "source": [
        "#importing important libraries\n",
        "import tensorflow\n",
        "from tensorflow import keras\n",
        "from tensorflow.keras.layers import Conv2D , Flatten , MaxPool2D , Dense\n",
        "from tensorflow.keras.datasets import mnist\n",
        "from tensorflow.keras.utils import to_categorical\n",
        "from tensorflow.keras import Model\n",
        "from tensorflow.keras import optimizers"
      ],
      "execution_count": null,
      "outputs": []
    },
    {
      "cell_type": "code",
      "metadata": {
        "id": "hzexhbJhNkzS",
        "colab_type": "code",
        "colab": {
          "base_uri": "https://localhost:8080/",
          "height": 51
        },
        "outputId": "38830996-1668-49b8-895a-156d15535b2c"
      },
      "source": [
        "#loading the data\n",
        "(x_train , y_train) , (x_test , y_test) = mnist.load_data()"
      ],
      "execution_count": null,
      "outputs": [
        {
          "output_type": "stream",
          "text": [
            "Downloading data from https://storage.googleapis.com/tensorflow/tf-keras-datasets/mnist.npz\n",
            "11493376/11490434 [==============================] - 0s 0us/step\n"
          ],
          "name": "stdout"
        }
      ]
    },
    {
      "cell_type": "code",
      "metadata": {
        "id": "lhSqFz2dONig",
        "colab_type": "code",
        "colab": {}
      },
      "source": [
        "# normalizing the data\n",
        "x_train , x_test = x_train/255.0 , x_test/255.0"
      ],
      "execution_count": null,
      "outputs": []
    },
    {
      "cell_type": "code",
      "metadata": {
        "id": "tVuJ4rlIOeKe",
        "colab_type": "code",
        "colab": {
          "base_uri": "https://localhost:8080/",
          "height": 34
        },
        "outputId": "faa88248-62f2-4454-bdd3-5fe4fd664b05"
      },
      "source": [
        "# shape of train and test\n",
        "x_train.shape , x_test.shape"
      ],
      "execution_count": null,
      "outputs": [
        {
          "output_type": "execute_result",
          "data": {
            "text/plain": [
              "((60000, 28, 28), (10000, 28, 28))"
            ]
          },
          "metadata": {
            "tags": []
          },
          "execution_count": 4
        }
      ]
    },
    {
      "cell_type": "code",
      "metadata": {
        "id": "lZQ3sb1aOi4U",
        "colab_type": "code",
        "colab": {
          "base_uri": "https://localhost:8080/",
          "height": 34
        },
        "outputId": "1d807a48-b54a-4820-98ed-32b1991892f2"
      },
      "source": [
        "# adding a channel dimension\n",
        "x_train = x_train.reshape(60000 , 28 , 28 , 1)\n",
        "x_test = x_test.reshape(10000 , 28 ,28 ,1 )\n",
        "x_train.shape , x_test.shape"
      ],
      "execution_count": null,
      "outputs": [
        {
          "output_type": "execute_result",
          "data": {
            "text/plain": [
              "((60000, 28, 28, 1), (10000, 28, 28, 1))"
            ]
          },
          "metadata": {
            "tags": []
          },
          "execution_count": 5
        }
      ]
    },
    {
      "cell_type": "code",
      "metadata": {
        "id": "MelUcX7jbgO-",
        "colab_type": "code",
        "colab": {}
      },
      "source": [
        "x_train = tensorflow.convert_to_tensor(x_train)\n",
        "x_test =  tensorflow.convert_to_tensor(x_test)\n",
        "y_train = tensorflow.convert_to_tensor(y_train)\n",
        "y_test = tensorflow.convert_to_tensor(y_test)"
      ],
      "execution_count": null,
      "outputs": []
    },
    {
      "cell_type": "code",
      "metadata": {
        "id": "xjabdbRiO-9R",
        "colab_type": "code",
        "colab": {}
      },
      "source": [
        "_# one hot encoding\n",
        "y_train = to_categorical(y_train , num_classes=10)\n",
        "y_test = to_categorical(y_test , num_classes = 10)"
      ],
      "execution_count": null,
      "outputs": []
    },
    {
      "cell_type": "code",
      "metadata": {
        "id": "NsFiiXGRLboW",
        "colab_type": "code",
        "colab": {}
      },
      "source": [
        "# defining the architecture\n",
        "model = keras.Sequential()\n",
        "model.add(Conv2D(6 , 5 , activation='tanh' , padding='same'))\n",
        "model.add(MaxPool2D(2))\n",
        "model.add(Conv2D(16 , 5 , activation = 'tanh' , padding='same'))\n",
        "model.add(MaxPool2D(2))\n",
        "model.add(Conv2D(120 , 5 , activation = 'tanh' , padding='same'))\n",
        "model.add(Flatten())\n",
        "model.add(Dense(84 , activation='tanh'))\n",
        "model.add(Dense(10 , activation='softmax'))"
      ],
      "execution_count": null,
      "outputs": []
    },
    {
      "cell_type": "code",
      "metadata": {
        "id": "smtLiB9WWxed",
        "colab_type": "code",
        "colab": {}
      },
      "source": [
        "#initializing the optimzer\n",
        "optim = optimizers.Adam()\n",
        "\n",
        "# defining the loss and evalution metrics\n",
        "model.compile(optim , loss=tensorflow.keras.losses.categorical_crossentropy , metrics=['accuracy'])"
      ],
      "execution_count": null,
      "outputs": []
    },
    {
      "cell_type": "code",
      "metadata": {
        "id": "uJfP7r7jVlV6",
        "colab_type": "code",
        "colab": {
          "base_uri": "https://localhost:8080/",
          "height": 836
        },
        "outputId": "6dd40d5e-4dd7-4a0a-fdb6-91102ba478e9"
      },
      "source": [
        "# training the model\n",
        "model.fit(x_train , y_train , batch_size = 80 , epochs= 20 , validation_split=0.2)"
      ],
      "execution_count": null,
      "outputs": [
        {
          "output_type": "stream",
          "text": [
            "Epoch 1/20\n",
            "WARNING:tensorflow:Layer conv2d_6 is casting an input tensor from dtype float64 to the layer's dtype of float32, which is new behavior in TensorFlow 2.  The layer has dtype float32 because it's dtype defaults to floatx.\n",
            "\n",
            "If you intended to run this layer in float32, you can safely ignore this warning. If in doubt, this warning is likely only an issue if you are porting a TensorFlow 1.X model to TensorFlow 2.\n",
            "\n",
            "To change all layers to have dtype float64 by default, call `tf.keras.backend.set_floatx('float64')`. To change just this layer, pass dtype='float64' to the layer constructor. If you are the author of this layer, you can disable autocasting by passing autocast=False to the base Layer constructor.\n",
            "\n",
            "600/600 [==============================] - 3s 4ms/step - loss: 0.1867 - accuracy: 0.9446 - val_loss: 0.0751 - val_accuracy: 0.9787\n",
            "Epoch 2/20\n",
            "600/600 [==============================] - 2s 4ms/step - loss: 0.0655 - accuracy: 0.9804 - val_loss: 0.0574 - val_accuracy: 0.9832\n",
            "Epoch 3/20\n",
            "600/600 [==============================] - 2s 4ms/step - loss: 0.0509 - accuracy: 0.9850 - val_loss: 0.0558 - val_accuracy: 0.9835\n",
            "Epoch 4/20\n",
            "600/600 [==============================] - 2s 4ms/step - loss: 0.0466 - accuracy: 0.9856 - val_loss: 0.0590 - val_accuracy: 0.9830\n",
            "Epoch 5/20\n",
            "600/600 [==============================] - 2s 4ms/step - loss: 0.0417 - accuracy: 0.9870 - val_loss: 0.0583 - val_accuracy: 0.9822\n",
            "Epoch 6/20\n",
            "600/600 [==============================] - 2s 4ms/step - loss: 0.0422 - accuracy: 0.9869 - val_loss: 0.0618 - val_accuracy: 0.9810\n",
            "Epoch 7/20\n",
            "600/600 [==============================] - 2s 4ms/step - loss: 0.0413 - accuracy: 0.9866 - val_loss: 0.0558 - val_accuracy: 0.9840\n",
            "Epoch 8/20\n",
            "600/600 [==============================] - 2s 4ms/step - loss: 0.0384 - accuracy: 0.9875 - val_loss: 0.0585 - val_accuracy: 0.9836\n",
            "Epoch 9/20\n",
            "600/600 [==============================] - 2s 4ms/step - loss: 0.0390 - accuracy: 0.9881 - val_loss: 0.0568 - val_accuracy: 0.9832\n",
            "Epoch 10/20\n",
            "600/600 [==============================] - 2s 4ms/step - loss: 0.0409 - accuracy: 0.9874 - val_loss: 0.0527 - val_accuracy: 0.9843\n",
            "Epoch 11/20\n",
            "600/600 [==============================] - 2s 4ms/step - loss: 0.0376 - accuracy: 0.9883 - val_loss: 0.0566 - val_accuracy: 0.9840\n",
            "Epoch 12/20\n",
            "600/600 [==============================] - 2s 4ms/step - loss: 0.0382 - accuracy: 0.9878 - val_loss: 0.0496 - val_accuracy: 0.9853\n",
            "Epoch 13/20\n",
            "600/600 [==============================] - 2s 4ms/step - loss: 0.0366 - accuracy: 0.9882 - val_loss: 0.0633 - val_accuracy: 0.9803\n",
            "Epoch 14/20\n",
            "600/600 [==============================] - 2s 4ms/step - loss: 0.0363 - accuracy: 0.9883 - val_loss: 0.0617 - val_accuracy: 0.9829\n",
            "Epoch 15/20\n",
            "600/600 [==============================] - 2s 4ms/step - loss: 0.0318 - accuracy: 0.9894 - val_loss: 0.0462 - val_accuracy: 0.9858\n",
            "Epoch 16/20\n",
            "600/600 [==============================] - 2s 4ms/step - loss: 0.0338 - accuracy: 0.9886 - val_loss: 0.0567 - val_accuracy: 0.9842\n",
            "Epoch 17/20\n",
            "600/600 [==============================] - 2s 4ms/step - loss: 0.0305 - accuracy: 0.9897 - val_loss: 0.0533 - val_accuracy: 0.9838\n",
            "Epoch 18/20\n",
            "600/600 [==============================] - 2s 4ms/step - loss: 0.0281 - accuracy: 0.9907 - val_loss: 0.0627 - val_accuracy: 0.9819\n",
            "Epoch 19/20\n",
            "600/600 [==============================] - 2s 4ms/step - loss: 0.0319 - accuracy: 0.9897 - val_loss: 0.0529 - val_accuracy: 0.9858\n",
            "Epoch 20/20\n",
            "600/600 [==============================] - 2s 4ms/step - loss: 0.0307 - accuracy: 0.9901 - val_loss: 0.0534 - val_accuracy: 0.9846\n"
          ],
          "name": "stdout"
        },
        {
          "output_type": "execute_result",
          "data": {
            "text/plain": [
              "<tensorflow.python.keras.callbacks.History at 0x7fd1320a1668>"
            ]
          },
          "metadata": {
            "tags": []
          },
          "execution_count": 14
        }
      ]
    },
    {
      "cell_type": "code",
      "metadata": {
        "id": "NnfQ4-59z5rl",
        "colab_type": "code",
        "colab": {
          "base_uri": "https://localhost:8080/",
          "height": 425
        },
        "outputId": "72ff1c3f-66c2-4d67-afb9-2623a9d48021"
      },
      "source": [
        "model.summary()"
      ],
      "execution_count": null,
      "outputs": [
        {
          "output_type": "stream",
          "text": [
            "Model: \"sequential_2\"\n",
            "_________________________________________________________________\n",
            "Layer (type)                 Output Shape              Param #   \n",
            "=================================================================\n",
            "conv2d_6 (Conv2D)            multiple                  156       \n",
            "_________________________________________________________________\n",
            "max_pooling2d_4 (MaxPooling2 multiple                  0         \n",
            "_________________________________________________________________\n",
            "conv2d_7 (Conv2D)            multiple                  2416      \n",
            "_________________________________________________________________\n",
            "max_pooling2d_5 (MaxPooling2 multiple                  0         \n",
            "_________________________________________________________________\n",
            "conv2d_8 (Conv2D)            multiple                  48120     \n",
            "_________________________________________________________________\n",
            "flatten_2 (Flatten)          multiple                  0         \n",
            "_________________________________________________________________\n",
            "dense_4 (Dense)              multiple                  494004    \n",
            "_________________________________________________________________\n",
            "dense_5 (Dense)              multiple                  850       \n",
            "=================================================================\n",
            "Total params: 545,546\n",
            "Trainable params: 545,546\n",
            "Non-trainable params: 0\n",
            "_________________________________________________________________\n"
          ],
          "name": "stdout"
        }
      ]
    },
    {
      "cell_type": "code",
      "metadata": {
        "id": "rM_DRxYyz7US",
        "colab_type": "code",
        "colab": {}
      },
      "source": [
        ""
      ],
      "execution_count": null,
      "outputs": []
    }
  ]
}