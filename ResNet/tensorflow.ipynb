{
  "nbformat": 4,
  "nbformat_minor": 0,
  "metadata": {
    "colab": {
      "name": "ResNet.ipynb",
      "provenance": []
    },
    "kernelspec": {
      "name": "python3",
      "display_name": "Python 3"
    },
    "accelerator": "GPU"
  },
  "cells": [
    {
      "cell_type": "code",
      "metadata": {
        "id": "YZ09giHdqu-x",
        "colab_type": "code",
        "colab": {}
      },
      "source": [
        "#libraries\n",
        "import tensorflow.keras as keras\n",
        "from keras.applications.resnet50 import ResNet50 , preprocess_input\n",
        "from keras.applications import ResNet101\n",
        "from keras.layers import UpSampling2D , BatchNormalization , Flatten , Dense , Dropout\n",
        "from keras import models\n",
        "from keras.datasets import cifar10\n",
        "from keras.utils import to_categorical"
      ],
      "execution_count": 23,
      "outputs": []
    },
    {
      "cell_type": "code",
      "metadata": {
        "id": "j9Uv6_jfrRYt",
        "colab_type": "code",
        "colab": {}
      },
      "source": [
        "# loading the pretrained model of resnet 50\n",
        "base_model = ResNet50(include_top=False , weights='imagenet' , input_shape=(200,200,3))"
      ],
      "execution_count": 15,
      "outputs": []
    },
    {
      "cell_type": "code",
      "metadata": {
        "id": "IvFUdxcJ0J-h",
        "colab_type": "code",
        "colab": {}
      },
      "source": [
        "def resnet_model(model_name):\n",
        "\n",
        "  (X_train , y_train) , (X_test , y_test) = cifar10.load_data()\n",
        "\n",
        "  # normalizing the values\n",
        "  X_train , X_test = X_train/255.0 , X_test/255.0\n",
        "\n",
        "  y_train = to_categorical(y_train, 10,)\n",
        "  y_test = to_categorical(y_test , 10)\n",
        "\n",
        "  if model_name == 'resnet_50':\n",
        "    base_model = ResNet50(include_top=False , weights='imagenet' , input_shape=(200,200,3))\n",
        "    base_model.summary()\n",
        "\n",
        "    model = models.Sequential()\n",
        "    model.add(UpSampling2D(2))\n",
        "    model.add(UpSampling2D(2))\n",
        "    model.add(UpSampling2D(2))\n",
        "\n",
        "    #adding the resnet 50 base model\n",
        "    model.add(base_model)\n",
        "\n",
        "    # adding fully connected layer beacause cifar10 has 10 classes wheras imagenet has 1000 classes\n",
        "    model.add(Flatten())\n",
        "    model.add(BatchNormalization())\n",
        "    model.add(Dense(128 , activation='relu'))\n",
        "    model.add(Dropout(0.5))\n",
        "    model.add(BatchNormalization())\n",
        "    model.add(Dense(64  ,activation='relu'))\n",
        "    model.add(Dropout(0.5))\n",
        "    model.add(BatchNormalization())\n",
        "    model.add(Dense(10  ,activation='softmax'))\n",
        "\n",
        "    return model\n",
        "\n",
        "  elif model_name =='resnet_101':\n",
        "    base_model = ResNet101(include_top=False , weights='imagenet' , input_shape=(200,200,3))\n",
        "    base_model.summary()\n",
        "\n",
        "    model = models.Sequential()\n",
        "    model.add(UpSampling2D(2))\n",
        "    model.add(UpSampling2D(2))\n",
        "    model.add(UpSampling2D(2))\n",
        "\n",
        "    #adding the resnet 50 base model\n",
        "    model.add(base_model)\n",
        "\n",
        "    # adding fully connected layer beacause cifar10 has 10 classes wheras imagenet has 1000 classes\n",
        "    model.add(Flatten())\n",
        "    model.add(BatchNormalization())\n",
        "    model.add(Dense(128 , activation='relu'))\n",
        "    model.add(Dropout(0.5))\n",
        "    model.add(BatchNormalization())\n",
        "    model.add(Dense(64  ,activation='relu'))\n",
        "    model.add(Dropout(0.5))\n",
        "    model.add(BatchNormalization())\n",
        "    model.add(Dense(10  ,activation='softmax'))\n",
        "\n",
        "    return model\n",
        "\n",
        "  else:\n",
        "    print('no model is selected---->select resnet50 or resnet101')"
      ],
      "execution_count": 27,
      "outputs": []
    },
    {
      "cell_type": "code",
      "metadata": {
        "id": "5aJjpu1W1VIn",
        "colab_type": "code",
        "colab": {}
      },
      "source": [
        "def train_model(model):\n",
        "  model.compile(optimizer=keras.optimizers.RMSprop(2e-5) , loss='binary_crossentropy' , metrics=['accuracy'])\n",
        "  model.fit(X_train , y_train, batch_size=20 , validation_data=(X_test , y_test), epochs=10 )\n"
      ],
      "execution_count": 31,
      "outputs": []
    },
    {
      "cell_type": "code",
      "metadata": {
        "id": "ofoqtgFm1j1r",
        "colab_type": "code",
        "colab": {}
      },
      "source": [
        "model = resnet_model('resnet_50')\n",
        "train_model(model)"
      ],
      "execution_count": null,
      "outputs": []
    }
  ]
}