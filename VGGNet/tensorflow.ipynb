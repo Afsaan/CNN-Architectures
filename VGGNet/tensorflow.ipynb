{
  "nbformat": 4,
  "nbformat_minor": 0,
  "metadata": {
    "colab": {
      "name": "tensorflow.ipynb",
      "provenance": []
    },
    "kernelspec": {
      "name": "python3",
      "display_name": "Python 3"
    },
    "accelerator": "GPU"
  },
  "cells": [
    {
      "cell_type": "code",
      "metadata": {
        "id": "GOAG2h1ucaFb",
        "colab_type": "code",
        "colab": {}
      },
      "source": [
        "import tensorflow\n",
        "from tensorflow import keras\n",
        "from tensorflow.keras.layers import Conv2D , Flatten , MaxPool2D , Dense\n",
        "from tensorflow.keras.datasets import mnist\n",
        "from tensorflow.keras.utils import to_categorical\n",
        "from tensorflow.keras import Model\n",
        "from tensorflow.keras import optimizers\n",
        "from tensorflow.keras.preprocessing.image import ImageDataGenerator"
      ],
      "execution_count": 2,
      "outputs": []
    },
    {
      "cell_type": "code",
      "metadata": {
        "id": "ig3d6NKTieRw",
        "colab_type": "code",
        "colab": {}
      },
      "source": [
        "train_dataset_path = '/content/drive/My Drive/csv files/mask_dataset/train'\n",
        "test_dataset_path = '/content/drive/My Drive/csv files/mask_dataset/val'"
      ],
      "execution_count": 3,
      "outputs": []
    },
    {
      "cell_type": "code",
      "metadata": {
        "id": "Q4Zqf_Ktih5Z",
        "colab_type": "code",
        "colab": {}
      },
      "source": [
        "datagen = ImageDataGenerator()"
      ],
      "execution_count": 4,
      "outputs": []
    },
    {
      "cell_type": "code",
      "metadata": {
        "id": "V5-cExMKik9_",
        "colab_type": "code",
        "colab": {
          "base_uri": "https://localhost:8080/",
          "height": 51
        },
        "outputId": "4ec9ece2-899e-4191-ecd3-d2a1896620da"
      },
      "source": [
        "#load and iterate the training set\n",
        "train = datagen.flow_from_directory(train_dataset_path  , target_size=(227 , 227) , class_mode='binary' ,batch_size= 64)\n",
        "\n",
        "#load and iterate the testing set\n",
        "test = datagen.flow_from_directory(test_dataset_path  , target_size=(227 , 227) , class_mode='binary' ,batch_size= 64)"
      ],
      "execution_count": 5,
      "outputs": [
        {
          "output_type": "stream",
          "text": [
            "Found 1100 images belonging to 2 classes.\n",
            "Found 137 images belonging to 2 classes.\n"
          ],
          "name": "stdout"
        }
      ]
    },
    {
      "cell_type": "code",
      "metadata": {
        "id": "lYwx-53qinkb",
        "colab_type": "code",
        "colab": {
          "base_uri": "https://localhost:8080/",
          "height": 85
        },
        "outputId": "2bf15eb4-fdf7-4e6d-a116-96f1b63bda82"
      },
      "source": [
        "train_data  = iter(train)\n",
        "X_train , y_train = train_data.next()\n",
        "\n",
        "test_data = iter(test)\n",
        "X_test , y_test = test_data.next()\n",
        "\n",
        "print(f'X_train shape :{ X_train.shape}')\n",
        "print(f'y_train shape :{y_train.shape}')\n",
        "print(f'X_test shape  :{X_test.shape}')\n",
        "print(f'y_test_shape  :{y_test.shape}')"
      ],
      "execution_count": 6,
      "outputs": [
        {
          "output_type": "stream",
          "text": [
            "X_train shape :(64, 227, 227, 3)\n",
            "y_train shape :(64,)\n",
            "X_test shape  :(64, 227, 227, 3)\n",
            "y_test_shape  :(64,)\n"
          ],
          "name": "stdout"
        }
      ]
    },
    {
      "cell_type": "code",
      "metadata": {
        "id": "NXwgtQGufeXR",
        "colab_type": "code",
        "colab": {}
      },
      "source": [
        "# vgg-16 architecture\n",
        "model = keras.Sequential()\n",
        "\n",
        "model.add(Conv2D(64 , 3 , activation='relu' , padding='same' , input_shape = (227,227,3)))\n",
        "model.add(Conv2D(64 , 3 , activation='relu'))\n",
        "model.add(MaxPool2D(2))\n",
        "\n",
        "model.add(Conv2D(128 , 3 , activation='relu' , padding='same'))\n",
        "model.add(Conv2D(128 , 3 , activation='relu' , padding='same'))\n",
        "model.add(MaxPool2D(2))\n",
        "\n",
        "model.add(Conv2D(256 , 3 , activation='relu', padding='same'))\n",
        "model.add(Conv2D(256 , 3 , activation='relu', padding='same'))\n",
        "model.add(Conv2D(256 , 3 , activation='relu', padding='same'))\n",
        "model.add(MaxPool2D(2))\n",
        "\n",
        "model.add(Conv2D(512 , 3 , activation='relu', padding='same'))\n",
        "model.add(Conv2D(512 , 3 , activation='relu', padding='same'))\n",
        "model.add(Conv2D(512 , 3 , activation='relu', padding='same'))\n",
        "model.add(MaxPool2D(2))\n",
        "\n",
        "model.add(Conv2D(512 , 3 , activation='relu', padding='same'))\n",
        "model.add(Conv2D(512 , 3 , activation='relu', padding='same'))\n",
        "model.add(Conv2D(512 , 3 , activation='relu', padding='same'))\n",
        "model.add(MaxPool2D(2))\n",
        "\n",
        "model.add(Flatten())\n",
        "\n",
        "model.add(Dense(4096 , activation= 'relu'))\n",
        "model.add(Dense(4096 , activation= 'relu'))\n",
        "model.add(Dense(2 , activation= 'softmax'))"
      ],
      "execution_count": 15,
      "outputs": []
    },
    {
      "cell_type": "code",
      "metadata": {
        "id": "6L9vtxKzirun",
        "colab_type": "code",
        "colab": {
          "base_uri": "https://localhost:8080/",
          "height": 901
        },
        "outputId": "73c62266-471b-4c15-8ea1-c1be88a93713"
      },
      "source": [
        "model.summary()"
      ],
      "execution_count": 16,
      "outputs": [
        {
          "output_type": "stream",
          "text": [
            "Model: \"sequential_4\"\n",
            "_________________________________________________________________\n",
            "Layer (type)                 Output Shape              Param #   \n",
            "=================================================================\n",
            "conv2d_40 (Conv2D)           (None, 227, 227, 64)      1792      \n",
            "_________________________________________________________________\n",
            "conv2d_41 (Conv2D)           (None, 225, 225, 64)      36928     \n",
            "_________________________________________________________________\n",
            "max_pooling2d_15 (MaxPooling (None, 112, 112, 64)      0         \n",
            "_________________________________________________________________\n",
            "conv2d_42 (Conv2D)           (None, 112, 112, 128)     73856     \n",
            "_________________________________________________________________\n",
            "conv2d_43 (Conv2D)           (None, 112, 112, 128)     147584    \n",
            "_________________________________________________________________\n",
            "max_pooling2d_16 (MaxPooling (None, 56, 56, 128)       0         \n",
            "_________________________________________________________________\n",
            "conv2d_44 (Conv2D)           (None, 56, 56, 256)       295168    \n",
            "_________________________________________________________________\n",
            "conv2d_45 (Conv2D)           (None, 56, 56, 256)       590080    \n",
            "_________________________________________________________________\n",
            "conv2d_46 (Conv2D)           (None, 56, 56, 256)       590080    \n",
            "_________________________________________________________________\n",
            "max_pooling2d_17 (MaxPooling (None, 28, 28, 256)       0         \n",
            "_________________________________________________________________\n",
            "conv2d_47 (Conv2D)           (None, 28, 28, 512)       1180160   \n",
            "_________________________________________________________________\n",
            "conv2d_48 (Conv2D)           (None, 28, 28, 512)       2359808   \n",
            "_________________________________________________________________\n",
            "conv2d_49 (Conv2D)           (None, 28, 28, 512)       2359808   \n",
            "_________________________________________________________________\n",
            "max_pooling2d_18 (MaxPooling (None, 14, 14, 512)       0         \n",
            "_________________________________________________________________\n",
            "conv2d_50 (Conv2D)           (None, 14, 14, 512)       2359808   \n",
            "_________________________________________________________________\n",
            "conv2d_51 (Conv2D)           (None, 14, 14, 512)       2359808   \n",
            "_________________________________________________________________\n",
            "conv2d_52 (Conv2D)           (None, 14, 14, 512)       2359808   \n",
            "_________________________________________________________________\n",
            "max_pooling2d_19 (MaxPooling (None, 7, 7, 512)         0         \n",
            "_________________________________________________________________\n",
            "flatten_3 (Flatten)          (None, 25088)             0         \n",
            "_________________________________________________________________\n",
            "dense_7 (Dense)              (None, 4096)              102764544 \n",
            "_________________________________________________________________\n",
            "dense_8 (Dense)              (None, 4096)              16781312  \n",
            "_________________________________________________________________\n",
            "dense_9 (Dense)              (None, 2)                 8194      \n",
            "=================================================================\n",
            "Total params: 134,268,738\n",
            "Trainable params: 134,268,738\n",
            "Non-trainable params: 0\n",
            "_________________________________________________________________\n"
          ],
          "name": "stdout"
        }
      ]
    },
    {
      "cell_type": "code",
      "metadata": {
        "id": "r53mK_ZNjBfy",
        "colab_type": "code",
        "colab": {}
      },
      "source": [
        "optim = optimizers.Adam()\n",
        "model.compile(optim , loss=tensorflow.keras.losses.binary_crossentropy, metrics=['accuracy'])"
      ],
      "execution_count": 17,
      "outputs": []
    },
    {
      "cell_type": "code",
      "metadata": {
        "id": "TtZpQLECjI7g",
        "colab_type": "code",
        "colab": {
          "base_uri": "https://localhost:8080/",
          "height": 153
        },
        "outputId": "3eacee44-77df-4b8e-f100-aec71cda80ca"
      },
      "source": [
        "model.fit_generator(train , epochs= 2 , validation_data= test , verbose = 1,)"
      ],
      "execution_count": 18,
      "outputs": [
        {
          "output_type": "stream",
          "text": [
            "WARNING:tensorflow:From <ipython-input-18-65244be508e4>:1: Model.fit_generator (from tensorflow.python.keras.engine.training) is deprecated and will be removed in a future version.\n",
            "Instructions for updating:\n",
            "Please use Model.fit, which supports generators.\n",
            "Epoch 1/2\n",
            "18/18 [==============================] - 562s 31s/step - loss: 7.2645 - accuracy: 0.5091 - val_loss: 7.6682 - val_accuracy: 0.5036\n",
            "Epoch 2/2\n",
            "18/18 [==============================] - 9s 500ms/step - loss: 7.6684 - accuracy: 0.5018 - val_loss: 7.6682 - val_accuracy: 0.5036\n"
          ],
          "name": "stdout"
        },
        {
          "output_type": "execute_result",
          "data": {
            "text/plain": [
              "<tensorflow.python.keras.callbacks.History at 0x7f7a1ee882b0>"
            ]
          },
          "metadata": {
            "tags": []
          },
          "execution_count": 18
        }
      ]
    }
  ]
}